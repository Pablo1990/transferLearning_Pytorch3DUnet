{
 "cells": [
  {
   "cell_type": "code",
   "execution_count": 29,
   "id": "708dc75b",
   "metadata": {},
   "outputs": [],
   "source": [
    "# import modules\n",
    "import pandas as pd\n",
    "from sklearn.linear_model import LinearRegression\n",
    "from sklearn.model_selection import train_test_split\n",
    "import shutil\n",
    "from skimage import io\n",
    "\n",
    "import os, sys\n",
    "import h5py\n",
    "import tifffile as tiff\n",
    "from PIL.TiffTags import TAGS\n",
    "from PIL import Image"
   ]
  },
  {
   "cell_type": "markdown",
   "id": "b4911109",
   "metadata": {},
   "source": [
    "# Functions"
   ]
  },
  {
   "cell_type": "code",
   "execution_count": 57,
   "id": "acce8e77",
   "metadata": {},
   "outputs": [],
   "source": [
    "def raw_parameters(rawFilePath):\n",
    "    '''Obtain raw image parameters: zSpacing, xResolution and yResolution from TIFF'''\n",
    "    \n",
    "    rawImg = tiff.TiffFile(rawFilePath);\n",
    "    try:\n",
    "        zSpacing = rawImg.imagej_metadata['spacing'];\n",
    "    except Exception as e:\n",
    "        zSpacing = 1;\n",
    "    \n",
    "    if rawImg.imagej_metadata['unit'] == 'micron':\n",
    "        measurementsInMicrons = True;\n",
    "        \n",
    "    rawImg = Image.open(rawFilePath)\n",
    "    \n",
    "    if TAGS[282] == 'XResolution':\n",
    "        xResolution = 1/rawImg.tag_v2[282];\n",
    "        \n",
    "    if TAGS[283] == 'YResolution':\n",
    "        yResolution = 1/rawImg.tag_v2[283];\n",
    "        \n",
    "    if measurementsInMicrons:\n",
    "        #To nanometers\n",
    "        zSpacing=zSpacing*1000;\n",
    "        xResolution=xResolution*1000;\n",
    "        yResolution=yResolution*1000;\n",
    "\n",
    "    return zSpacing, xResolution, yResolution"
   ]
  },
  {
   "cell_type": "code",
   "execution_count": 31,
   "id": "a8b1efe5",
   "metadata": {},
   "outputs": [],
   "source": [
    "def load_raw_seg_images(rawFilePath, segFilePath, resize_img=False):\n",
    "    '''Read segmented image to remove first biggest label and obtain list of cell properties'''\n",
    "    \n",
    "    if rawFilePath.endswith('tif') or rawFilePath.endswith('tiff'):\n",
    "        rawImg = io.imread(rawFilePath)\n",
    "        segmentedImg = io.imread(segFilePath)\n",
    "    \n",
    "    if rawFilePath.endswith('h5'):\n",
    "        rawImgh5 = h5py.File(rawFilePath, 'r')\n",
    "        rawImg = np.array(rawImgh5.get('raw'))\n",
    "\n",
    "        segmentedImgh5 = h5py.File(segFilePath, 'r')\n",
    "        segmentedImg = np.array(segmentedImgh5.get('label'))\n",
    "        \n",
    "    segmentedImg = segmentedImg - 1;\n",
    "    \n",
    "    if resize_img == True:\n",
    "            rawImg = transform.resize(rawImg, (rawImg.shape[0], 512, 512),\n",
    "                            order=0, preserve_range=True, anti_aliasing=False).astype(np.uint32)\n",
    "            segmentedImg = transform.resize(segmentedImg, (segmentedImg.shape[0], 512, 512),\n",
    "                                  order=0, preserve_range=True, anti_aliasing=False).astype(np.uint32)  \n",
    "    #uniqueIds=np.unique(segmentedImg)\n",
    "    #maxId = uniqueIds.max()\n",
    "     \n",
    "    #props = measure.regionprops(segmentedImg)\n",
    "\n",
    "    return rawImg, segmentedImg\n",
    "\n"
   ]
  },
  {
   "cell_type": "code",
   "execution_count": 55,
   "id": "0332a545",
   "metadata": {},
   "outputs": [],
   "source": [
    "def save_hdf5(h5FileName, rawImg, segImg, zSpacing, xResolution, yResolution):\n",
    "    '''Saves postprocessed image as HDF5'''\n",
    "    \n",
    "    h5pyFile = h5py.File(h5FileName, \"w\")\n",
    "    segmentation = h5pyFile.create_dataset(\"label\", data=segImg, dtype='uint16')\n",
    "    rawH5 = h5pyFile.create_dataset('raw', data=rawImg, dtype='uint8')\n",
    "    \n",
    "    #If properties from TIFF (need to add into function argument)\n",
    "    segmentation.attrs['zSpacing'] = zSpacing\n",
    "    segmentation.attrs['xResolution'] = [xResolution.numerator,xResolution.denominator]\n",
    "    segmentation.attrs['yResolution'] = [yResolution.numerator,yResolution.denominator]\n",
    "    \n",
    "    rawH5.attrs['zSpacing'] = zSpacing\n",
    "    rawH5.attrs['xResolution'] = [xResolution.numerator,xResolution.denominator]\n",
    "    rawH5.attrs['yResolution'] = [yResolution.numerator,yResolution.denominator]\n",
    "    \n",
    "    h5pyFile.close()"
   ]
  },
  {
   "cell_type": "markdown",
   "id": "5e3bcd8c",
   "metadata": {},
   "source": [
    "# User variables"
   ]
  },
  {
   "cell_type": "code",
   "execution_count": 35,
   "id": "3d9ce467",
   "metadata": {},
   "outputs": [],
   "source": [
    "files_path = '/media/pablo/d7c61090-024c-469a-930c-f5ada47fb049/PabloVicenteMunuera/transferLearning_Pytorch3DUnet/data/'\n",
    "raw_dir = [files_path + 'raw/']\n",
    "train_dir = files_path + 'inputDataset/training/'\n",
    "test_dir = files_path + 'inputDataset/validation/'"
   ]
  },
  {
   "cell_type": "markdown",
   "id": "9a250072",
   "metadata": {},
   "source": [
    "# Script"
   ]
  },
  {
   "cell_type": "code",
   "execution_count": 56,
   "id": "a21669a0",
   "metadata": {},
   "outputs": [
    {
     "name": "stdout",
     "output_type": "stream",
     "text": [
      "Dir exists\n",
      "/media/pablo/d7c61090-024c-469a-930c-f5ada47fb049/PabloVicenteMunuera/transferLearning_Pytorch3DUnet/data/raw/\n",
      "250000000/4742483\n",
      "250000000/4742483\n",
      "500.0\n",
      "250000000/4742483\n",
      "250000000/4742483\n",
      "500.0\n",
      "250000000/4742483\n",
      "250000000/4742483\n",
      "500.0\n"
     ]
    }
   ],
   "source": [
    "try:\n",
    "    shutil.rmtree(train_dir)\n",
    "except OSError as exc:\n",
    "    pass\n",
    "\n",
    "try:\n",
    "    shutil.rmtree(test_dir)\n",
    "except OSError as exc:\n",
    "    pass\n",
    "\n",
    "os.mkdir(train_dir)\n",
    "os.mkdir(test_dir)\n",
    "\n",
    "try:\n",
    "    os.mkdir(files_path + 'raw/')\n",
    "except OSError as exc:\n",
    "    print('Dir exists')\n",
    "\n",
    "for currentDir in raw_dir:\n",
    "    print(currentDir)\n",
    "    for root, subdirs, files in os.walk(currentDir):\n",
    "        for filename in files:\n",
    "            if filename.endswith('.tif'):\n",
    "                fullFileName = root + filename;\n",
    "                fullFileName_seg = fullFileName.replace('raw', 'segmented')\n",
    "                fullFileName_seg = fullFileName_seg.replace('.tif', '_masks.tif')\n",
    "                if os.path.exists(fullFileName_seg):\n",
    "                    rawImg, segmentedImg = load_raw_seg_images(fullFileName, fullFileName_seg)\n",
    "                    zSpacing, xResolution, yResolution = raw_parameters(fullFileName)\n",
    "                    h5FileName = root.replace('raw', 'inputDataset/all') + filename.replace('.tif', '.h5')\n",
    "                    save_hdf5(h5FileName, rawImg, segmentedImg, zSpacing, xResolution, yResolution)"
   ]
  },
  {
   "cell_type": "code",
   "execution_count": 51,
   "id": "668c3676",
   "metadata": {},
   "outputs": [
    {
     "data": {
      "text/plain": [
       "18.969932"
      ]
     },
     "execution_count": 51,
     "metadata": {},
     "output_type": "execute_result"
    }
   ],
   "source": [
    "rawImg = Image.open(fullFileName)\n",
    "rawImg.tag_v2[282]"
   ]
  },
  {
   "cell_type": "code",
   "execution_count": null,
   "id": "6479bc2d",
   "metadata": {},
   "outputs": [],
   "source": [
    "# Split into validation and test, first\n",
    "train_data, test_data = train_test_split(allFileNames, test_size=0.2, random_state=1)\n",
    "\n",
    "# Save files onto different dirs\n",
    "for train_file in train_data:\n",
    "    img = io.imread(files_path + 'ImageSequence2D/' + train_file)\n",
    "    io.imsave(files_path + 'ImageSequence2D_train/' + train_file, img)\n",
    "    mask = io.imread(files_path + 'ImageSequence2D/' + train_file.replace('_masks', ''))\n",
    "    io.imsave(files_path + 'ImageSequence2D_train/' + train_file.replace('_masks', ''), mask)\n",
    "    \n",
    "# Save files onto different dirs\n",
    "for test_file in test_data:\n",
    "    img = io.imread(files_path + 'ImageSequence2D/' + test_file)\n",
    "    io.imsave(files_path + 'ImageSequence2D_test/' + test_file, img)\n",
    "    mask = io.imread(files_path + 'ImageSequence2D/' + test_file.replace('_masks', ''))\n",
    "    io.imsave(files_path + 'ImageSequence2D_test/' + test_file.replace('_masks', ''), mask)"
   ]
  }
 ],
 "metadata": {
  "kernelspec": {
   "display_name": "Python 3 (ipykernel)",
   "language": "python",
   "name": "python3"
  },
  "language_info": {
   "codemirror_mode": {
    "name": "ipython",
    "version": 3
   },
   "file_extension": ".py",
   "mimetype": "text/x-python",
   "name": "python",
   "nbconvert_exporter": "python",
   "pygments_lexer": "ipython3",
   "version": "3.10.8"
  }
 },
 "nbformat": 4,
 "nbformat_minor": 5
}
